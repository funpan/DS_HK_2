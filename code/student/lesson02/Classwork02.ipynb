{
 "metadata": {
  "name": ""
 },
 "nbformat": 3,
 "nbformat_minor": 0,
 "worksheets": [
  {
   "cells": [
    {
     "cell_type": "heading",
     "level": 1,
     "metadata": {},
     "source": [
      "Classwork for Lesson 02 \n",
      "(30-Apr-2014)"
     ]
    },
    {
     "cell_type": "heading",
     "level": 2,
     "metadata": {},
     "source": [
      "Write two functions:<br>\n",
      "vectorMatrix multiplication and matrix multiplication. "
     ]
    },
    {
     "cell_type": "code",
     "collapsed": false,
     "input": [
      "# use numpy as verification\n",
      "import numpy as np"
     ],
     "language": "python",
     "metadata": {},
     "outputs": [],
     "prompt_number": 9
    },
    {
     "cell_type": "code",
     "collapsed": false,
     "input": [
      "# Sample Data for testing\n",
      "\n",
      "a = [1.0,3,9,2]\n",
      "b = [2,3,6,5]\n",
      "m = [ [1,2,3,4],\n",
      "     [5,6,7,8],\n",
      "     [9,0,1,2],\n",
      "     [3,4,5,6]]\n",
      "m1 = [ [1], [2], [3], [4]]\n",
      "m2 = [[1,3,9,2], [2,4,6,8]]\n",
      "m3 = [[2,1], [3,2], [6,0], [5,4]]\n",
      "\n",
      "e1 = [ [1,3,9,2], [2,4,6]]\n",
      "e2 = [ [1,3,9], [2,4,6,8]]"
     ],
     "language": "python",
     "metadata": {},
     "outputs": [],
     "prompt_number": 2
    },
    {
     "cell_type": "code",
     "collapsed": false,
     "input": [
      "def iMatrix(n):\n",
      "    \"\"\"Return an identity matrix with size n\"\"\"\n",
      "    result = []\n",
      "    \n",
      "    for i in range(n):\n",
      "        v = []\n",
      "        for j in range(n):\n",
      "            if i == j:\n",
      "                v.append(1)\n",
      "            else:\n",
      "                v.append(0)\n",
      "        result.append(v)\n",
      "    return result\n"
     ],
     "language": "python",
     "metadata": {},
     "outputs": [],
     "prompt_number": 10
    },
    {
     "cell_type": "code",
     "collapsed": false,
     "input": [
      "def isVector(vector):\n",
      "    return len([True for v in vector if type(v) == list]) == 0\n",
      "\n",
      "print isVector(a), isVector(b), isVector(m), isVector(m1)"
     ],
     "language": "python",
     "metadata": {},
     "outputs": [
      {
       "output_type": "stream",
       "stream": "stdout",
       "text": [
        "True True False False\n"
       ]
      }
     ],
     "prompt_number": 11
    },
    {
     "cell_type": "code",
     "collapsed": false,
     "input": [
      "def isMatrix(matrix):\n",
      "    \"\"\" Verify the given matrix is a true matrix by multiplying \n",
      "        the identity matrix by returning a Boolean \"\"\"\n",
      "    \n",
      "    size = 0\n",
      "    col = 0\n",
      "    line = []\n",
      "    m = []\n",
      "    \n",
      "    if len(matrix) > 0:\n",
      "        size = len(matrix[0])\n",
      "    im = iMatrix(size)\n",
      "    try:\n",
      "        for x in matrix:\n",
      "            for y in im:\n",
      "                for i in range(size):\n",
      "                    col += x[i] * y[i]\n",
      "                line.append(col)\n",
      "                col = 0\n",
      "            m.append(line)\n",
      "            line = []\n",
      "    except:\n",
      "        m=[]\n",
      "        print \"Invalid matrix!\"\n",
      "        \n",
      "    if matrix == m:\n",
      "        return True\n",
      "    else:\n",
      "        return False\n",
      "\n",
      "print isMatrix(m2), isMatrix(m3)\n",
      "print isMatrix(e1), isMatrix(e2)"
     ],
     "language": "python",
     "metadata": {},
     "outputs": [
      {
       "output_type": "stream",
       "stream": "stdout",
       "text": [
        "True True\n",
        "Invalid matrix!\n",
        "False False\n"
       ]
      }
     ],
     "prompt_number": 5
    },
    {
     "cell_type": "code",
     "collapsed": false,
     "input": [
      "def matrixTranspose(matrix):\n",
      "    \"\"\"Transpose a matrix by returning a tranpsosed matrix\"\"\"    \n",
      "    try:\n",
      "        return [ [row[i] for row in matrix] for i in range(len(matrix[0]))]\n",
      "    except:\n",
      "        return []\n",
      "    \n",
      "print m3\n",
      "print matrixTranspose(m3)\n",
      "print matrixTranspose(e1)"
     ],
     "language": "python",
     "metadata": {},
     "outputs": [
      {
       "output_type": "stream",
       "stream": "stdout",
       "text": [
        "[[2, 1], [3, 2], [6, 0], [5, 4]]\n",
        "[[2, 3, 6, 5], [1, 2, 0, 4]]\n",
        "[]\n"
       ]
      }
     ],
     "prompt_number": 6
    },
    {
     "cell_type": "code",
     "collapsed": false,
     "input": [
      "def vectorMatrixMultiply(matrix, vector):\n",
      "    \"\"\"Matrix-vector products by returning a vector\"\"\"\n",
      "    result = []\n",
      "    \n",
      "    if not isVector(vector):\n",
      "        return []\n",
      "    \n",
      "    if not isMatrix(matrix):\n",
      "        return []\n",
      "        \n",
      "    for v in matrix:\n",
      "        y = 0\n",
      "        for x in [vector[i]*v[i] for i in range(len(vector))]:\n",
      "            y += x\n",
      "        result.append(y)    \n",
      "    return result\n",
      "    \n",
      "print vectorMatrixMultiply(m, a)\n",
      "print np.dot(m, a)\n",
      "print vectorMatrixMultiply(e1,a)"
     ],
     "language": "python",
     "metadata": {},
     "outputs": [
      {
       "output_type": "stream",
       "stream": "stdout",
       "text": [
        "[42.0, 102.0, 22.0, 72.0]\n",
        "[  42.  102.   22.   72.]\n",
        "Invalid matrix!\n",
        "[]\n"
       ]
      }
     ],
     "prompt_number": 7
    },
    {
     "cell_type": "code",
     "collapsed": false,
     "input": [
      "def matrixMultiply(m1, m2):\n",
      "    \"\"\"Matrix-matrix products by returning a matrix\"\"\"\n",
      "    \n",
      "    result = []\n",
      "    m2T = matrixTranspose(m2)\n",
      "    \n",
      "    try:\n",
      "        for i in range(len(m2T)):\n",
      "            result.append(vectorMatrixMultiply(m1, m2T[i]))\n",
      "        return matrixTranspose(result)\n",
      "    except:\n",
      "        print \"Error in matrix multiplication!\"\n",
      "        return []\n",
      "    \n",
      "print matrixMultiply(m2, m3)\n",
      "print np.dot(m2, m3)\n",
      "\n",
      "print e2, matrixMultiply(e2, iMatrix(3))"
     ],
     "language": "python",
     "metadata": {},
     "outputs": [
      {
       "output_type": "stream",
       "stream": "stdout",
       "text": [
        "[[75, 15], [92, 42]]\n",
        "[[75 15]\n",
        " [92 42]]\n",
        "[[1, 3, 9], [2, 4, 6, 8]] []\n"
       ]
      }
     ],
     "prompt_number": 8
    },
    {
     "cell_type": "code",
     "collapsed": false,
     "input": [],
     "language": "python",
     "metadata": {},
     "outputs": [],
     "prompt_number": 8
    }
   ],
   "metadata": {}
  }
 ]
}